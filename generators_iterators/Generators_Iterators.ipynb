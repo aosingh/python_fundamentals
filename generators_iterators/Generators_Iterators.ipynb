{
 "cells": [
  {
   "cell_type": "markdown",
   "metadata": {},
   "source": [
    "# Containers\n",
    "\n",
    "Containers are objects that hold references to other objects. A few built-in container types are `dict`, `list` and `set`.\n",
    "\n",
    "To create user-defined containers read [emulating container types](https://docs.python.org/2/reference/datamodel.html#emulating-container-types)\n",
    "\n",
    "Python supports iteration over container objects. In this notebook, we will understand the iterator protocol and also look at differences between iterators and generators."
   ]
  },
  {
   "cell_type": "markdown",
   "metadata": {},
   "source": [
    "## Simple iterator examples"
   ]
  },
  {
   "cell_type": "code",
   "execution_count": 1,
   "metadata": {},
   "outputs": [
    {
     "name": "stdout",
     "output_type": "stream",
     "text": [
      "b\n",
      "e\n",
      "a\n",
      "u\n",
      "t\n",
      "i\n",
      "f\n",
      "u\n",
      "l\n"
     ]
    }
   ],
   "source": [
    "for x in \"beautiful\": # `Container` object is a sequence i.e. string.\n",
    "    print x"
   ]
  },
  {
   "cell_type": "code",
   "execution_count": 2,
   "metadata": {},
   "outputs": [
    {
     "name": "stdout",
     "output_type": "stream",
     "text": [
      "1\n",
      "2\n",
      "3\n"
     ]
    }
   ],
   "source": [
    "for x in ['1', '2', '3']: # `Container` object is a List.\n",
    "    print x"
   ]
  },
  {
   "cell_type": "markdown",
   "metadata": {},
   "source": [
    "### How does the for loop terminate ?\n",
    "\n",
    "* What happens when you use the **for** statement to iterate over elements in a container ?\n",
    "     - The **for** statement calls the [`iter()`](https://docs.python.org/2.7/library/functions.html#iter) function on the container object. The function returns an **iterator object**. \n",
    "\n",
    "\n",
    "* What is an **iterator object** ? \n",
    "    - The iterator object defines the `next()` method. This method returns the next element in the container(one at a time) and raises a **`StopIteration`** exception when there are no more elements. This is how the `for` loop terminates.\n",
    "    \n",
    "\n",
    "Let's look at an example to understand the working"
   ]
  },
  {
   "cell_type": "code",
   "execution_count": 3,
   "metadata": {},
   "outputs": [
    {
     "name": "stdout",
     "output_type": "stream",
     "text": [
      "b\n",
      "e\n",
      "a\n",
      "u\n",
      "t\n",
      "i\n",
      "f\n",
      "u\n",
      "l\n"
     ]
    },
    {
     "ename": "StopIteration",
     "evalue": "",
     "output_type": "error",
     "traceback": [
      "\u001b[0;31m---------------------------------------------------------------------------\u001b[0m",
      "\u001b[0;31mStopIteration\u001b[0m                             Traceback (most recent call last)",
      "\u001b[0;32m<ipython-input-3-a63fac8736b1>\u001b[0m in \u001b[0;36m<module>\u001b[0;34m()\u001b[0m\n\u001b[1;32m      9\u001b[0m \u001b[0;32mprint\u001b[0m \u001b[0mit\u001b[0m\u001b[0;34m.\u001b[0m\u001b[0mnext\u001b[0m\u001b[0;34m(\u001b[0m\u001b[0;34m)\u001b[0m\u001b[0;34m\u001b[0m\u001b[0m\n\u001b[1;32m     10\u001b[0m \u001b[0;32mprint\u001b[0m \u001b[0mit\u001b[0m\u001b[0;34m.\u001b[0m\u001b[0mnext\u001b[0m\u001b[0;34m(\u001b[0m\u001b[0;34m)\u001b[0m\u001b[0;34m\u001b[0m\u001b[0m\n\u001b[0;32m---> 11\u001b[0;31m \u001b[0;32mprint\u001b[0m \u001b[0mit\u001b[0m\u001b[0;34m.\u001b[0m\u001b[0mnext\u001b[0m\u001b[0;34m(\u001b[0m\u001b[0;34m)\u001b[0m \u001b[0;31m# StopIteration Exception raised at this step. No more element\u001b[0m\u001b[0;34m\u001b[0m\u001b[0m\n\u001b[0m",
      "\u001b[0;31mStopIteration\u001b[0m: "
     ]
    }
   ],
   "source": [
    "it = iter(\"beautiful\") # Grab the iterator object using the `iter()` function.\n",
    "print it.next() # Call next() funtion to print one element at a time\n",
    "print it.next()\n",
    "print it.next()\n",
    "print it.next()\n",
    "print it.next()\n",
    "print it.next()\n",
    "print it.next()\n",
    "print it.next()\n",
    "print it.next()\n",
    "print it.next() # StopIteration Exception raised at this step. No more element"
   ]
  },
  {
   "cell_type": "markdown",
   "metadata": {},
   "source": [
    "# Iterator Protocol\n",
    "\n",
    "For any object to be an iterator define the following methods.\n",
    "\n",
    "1. `__iter__()` - Return an iterator object which defines the `next()` method\n",
    "2. `next()` - Returns the next element\n",
    "\n",
    "Let's define our own iterator to return alternate elements in a sequence "
   ]
  },
  {
   "cell_type": "code",
   "execution_count": 4,
   "metadata": {},
   "outputs": [],
   "source": [
    "class Alternate(): \n",
    "    \n",
    "    \"\"\"Iterator for looping over alternate elements of a sequence\"\"\"\n",
    "    \n",
    "    def __init__(self, data):\n",
    "        self.data = data\n",
    "        self.index = -2\n",
    "    \n",
    "    def __iter__(self):\n",
    "        return self\n",
    "    \n",
    "    def next(self):\n",
    "        self.index = self.index + 2\n",
    "        if self.index >= len(self.data):\n",
    "            raise StopIteration\n",
    "        return self.data[self.index]"
   ]
  },
  {
   "cell_type": "code",
   "execution_count": 5,
   "metadata": {},
   "outputs": [
    {
     "name": "stdout",
     "output_type": "stream",
     "text": [
      "0\n",
      "2\n",
      "4\n",
      "6\n",
      "8\n",
      "10\n"
     ]
    }
   ],
   "source": [
    "altIterator = Alternate([0, 1, 2, 3, 4, 5, 6, 7, 8, 9, 10])\n",
    "for element in altIterator:\n",
    "    print element"
   ]
  },
  {
   "cell_type": "markdown",
   "metadata": {},
   "source": [
    "The working is pretty simple. The `__iter()__` method should return an object which defines the `next()` method. Thus, we return `self`.\n",
    "\n",
    "In the implementation of `next()`, we raise a `StopIteration` exception(at the correct point) for the `for` loop to terminate."
   ]
  },
  {
   "cell_type": "markdown",
   "metadata": {},
   "source": [
    "# Generators..coming soon"
   ]
  }
 ],
 "metadata": {
  "kernelspec": {
   "display_name": "Python 2",
   "language": "python",
   "name": "python2"
  },
  "language_info": {
   "codemirror_mode": {
    "name": "ipython",
    "version": 2
   },
   "file_extension": ".py",
   "mimetype": "text/x-python",
   "name": "python",
   "nbconvert_exporter": "python",
   "pygments_lexer": "ipython2",
   "version": "2.7.13"
  }
 },
 "nbformat": 4,
 "nbformat_minor": 2
}
